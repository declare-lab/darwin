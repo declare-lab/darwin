{
 "cells": [
  {
   "cell_type": "code",
   "execution_count": null,
   "id": "434002f3-3761-4702-97b0-9173ce387269",
   "metadata": {},
   "outputs": [],
   "source": [
    "from models import Darwin, BestOfN\n",
    "from utils import Archive\n",
    "model_name = 'meta-llama/Meta-Llama-3-8B-Instruct'\n",
    "reward_model_name = 'sfairXC/FsfairX-LLaMA3-RM-v0.1'\n",
    "device = \"cuda:2\"\n",
    "\n",
    "## To use darwin, load darwin as generator\"\n"
   ]
  },
  {
   "cell_type": "markdown",
   "id": "a8da2070-bb58-4ecd-8cfc-2def60201822",
   "metadata": {},
   "source": [
    "# Darwin"
   ]
  },
  {
   "cell_type": "code",
   "execution_count": null,
   "id": "7232a85a-9fd2-4446-9f97-e1f8b5938e33",
   "metadata": {},
   "outputs": [],
   "source": [
    "generator = Darwin(\n",
    "            model_name, reward_model_name=reward_model_name, device=device)\n"
   ]
  },
  {
   "cell_type": "code",
   "execution_count": null,
   "id": "4b82ed04-33c5-4141-b212-44228afd6193",
   "metadata": {},
   "outputs": [],
   "source": [
    "instruction = \"How do cook delicious japanese food\"\n",
    "archive = Archive(instruction)\n",
    "generator.archive = archive ## Archive needs to be reinitialized every time inference is made on different instruction\n",
    "\n",
    "\n",
    "## look_ahead is number of tokens to look ahead while computing reward\n",
    "## Set show_generation_process to True to print the generation process of each beam\n",
    "## iteration is the number of mutation cycles\n",
    "output = generator.generate(instruction,\n",
    "                                     replacement_period=40,\n",
    "                                     show_generation_process=False,\n",
    "                                     iteration=1,\n",
    "                                     look_ahead=0,\n",
    "                                     n_mutation=1) ## n mutation is number mutation batch. Each batch consist of 5 mutated instruction\n",
    "\n",
    "\n"
   ]
  },
  {
   "cell_type": "code",
   "execution_count": null,
   "id": "6805686b-cd31-41a5-a311-734d21d5ba73",
   "metadata": {
    "scrolled": true
   },
   "outputs": [],
   "source": [
    "print(\"###Original output###\\n\",archive.output_list[0])\n",
    "print(\"###Output after first mutation cycle###\\n\", archive.output_list[1])"
   ]
  },
  {
   "cell_type": "markdown",
   "id": "943f59f3-a1b9-415b-879a-543f17c1ec31",
   "metadata": {},
   "source": [
    "# Best of N"
   ]
  },
  {
   "cell_type": "code",
   "execution_count": null,
   "id": "a524d72d-2d92-4985-9a09-406843b6e04f",
   "metadata": {},
   "outputs": [],
   "source": [
    "generator_best_of_n= BestOfN(\n",
    "            model_name, reward_model_name=reward_model_name, device=device)\n"
   ]
  },
  {
   "cell_type": "code",
   "execution_count": null,
   "id": "07fe850e-59bc-484c-8e0d-f61a0f1c28aa",
   "metadata": {},
   "outputs": [],
   "source": [
    "instruction = \"How do cook delicious japanese food\"\n",
    "output = generator_best_of_n.generate(instruction,n=5)"
   ]
  }
 ],
 "metadata": {
  "kernelspec": {
   "display_name": "Python 3 (ipykernel)",
   "language": "python",
   "name": "python3"
  },
  "language_info": {
   "codemirror_mode": {
    "name": "ipython",
    "version": 3
   },
   "file_extension": ".py",
   "mimetype": "text/x-python",
   "name": "python",
   "nbconvert_exporter": "python",
   "pygments_lexer": "ipython3",
   "version": "3.10.12"
  }
 },
 "nbformat": 4,
 "nbformat_minor": 5
}
